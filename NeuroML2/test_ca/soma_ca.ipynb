{
 "cells": [
  {
   "cell_type": "code",
   "execution_count": 3,
   "metadata": {},
   "outputs": [],
   "source": [
    "import math\n",
    "from neuroml import NeuroMLDocument\n",
    "from neuroml import Cell\n",
    "from neuroml import BiophysicalProperties\n",
    "from neuroml import MembraneProperties\n",
    "from neuroml import IncludeType\n",
    "from neuroml import ChannelDensity, ChannelDensityNernst, ChannelDensityNernstCa2, ChannelDensityGHK, ChannelDensityGHK2\n",
    "from neuroml import SpikeThresh\n",
    "from neuroml import SpecificCapacitance\n",
    "from neuroml import InitMembPotential\n",
    "from neuroml import IntracellularProperties\n",
    "from neuroml import Resistivity, Species\n",
    "from neuroml import Morphology, Segment, Point3DWithDiam\n",
    "from neuroml import Network, Population\n",
    "from neuroml import PulseGenerator, ExplicitInput\n",
    "from pyneuroml import pynml\n",
    "import numpy as np\n",
    "from pyneuroml.lems import LEMSSimulation"
   ]
  },
  {
   "cell_type": "code",
   "execution_count": 128,
   "metadata": {},
   "outputs": [],
   "source": [
    "def main():\n",
    "    \"\"\"Main function\n",
    "\n",
    "    Include the NeuroML model into a LEMS simulation file, run it, plot some\n",
    "    data.\n",
    "    \"\"\"\n",
    "    # Simulation bits\n",
    "\n",
    "    sim_id = \"pyr_single_comp_ca\"\n",
    "    simulation = LEMSSimulation(sim_id=sim_id, duration=700, dt=0.005, simulation_seed=123)\n",
    "\n",
    "    # Include the NeuroML model file\n",
    "    simulation.include_neuroml2_file(create_network())\n",
    "    # Assign target for the simulation\n",
    "    simulation.assign_simulation_target(\"single_pyr_cell_network\")\n",
    "\n",
    "    # Recording information from the simulation\n",
    "    simulation.create_output_file(id=\"output0\", file_name=sim_id + \".dat\")\n",
    "    simulation.add_column_to_output_file(\"output0\", column_id=\"pop0[0]_v\", quantity=\"pop0[0]/v\")\n",
    "\n",
    "    simulation.create_output_file(id=\"cai\", file_name=sim_id + \".cai.dat\")\n",
    "    simulation.add_column_to_output_file(\"cai\", column_id=\"pop0[0]_cai\", quantity=\"pop0[0]/caConc\")\n",
    "\n",
    "    simulation.create_output_file(id=\"ica\", file_name=sim_id + \".ica.dat\")\n",
    "    simulation.add_column_to_output_file(\"ica\", column_id=\"pop0[0]_ica\", quantity=\"pop0[0]/iCa\")\n",
    "\n",
    "    # Recording information from the simulation\n",
    "    simulation.create_output_file(id=\"sca_m\", file_name=sim_id + \".sca_m.dat\")\n",
    "    simulation.add_column_to_output_file(\"sca_m\", column_id=\"pop0[0]_sca_m\", quantity=\"pop0[0]/pyr_b_prop/membraneProperties/soma_sca/sca/m/q\")\n",
    "\n",
    "    simulation.create_output_file(id=\"sca_h\", file_name=sim_id + \".sca_h.dat\")\n",
    "    simulation.add_column_to_output_file(\"sca_h\", column_id=\"pop0[0]_sca_h\", quantity=\"pop0[0]/pyr_b_prop/membraneProperties/soma_sca/sca/h/q\")\n",
    "\n",
    "    # simulation.create_output_file(id=\"kca_n\", file_name=sim_id + \".kca_n.dat\")\n",
    "    # simulation.add_column_to_output_file(\"kca_n\", column_id=\"pop0[0]_kca_n\", quantity=\"pop0[0]/pyr_b_prop/membraneProperties/soma_kca/kca/n/q\")\n",
    "\n",
    "    # Save LEMS simulation to file\n",
    "    sim_file = simulation.save_to_file()\n",
    "\n",
    "    # Run the simulation using the default jNeuroML simulator\n",
    "    pynml.run_lems_with_jneuroml(sim_file, max_memory=\"2G\", nogui=True, plot=False)\n",
    "    # Plot the data\n",
    "    plot_data(sim_id)"
   ]
  },
  {
   "cell_type": "code",
   "execution_count": 132,
   "metadata": {},
   "outputs": [],
   "source": [
    "def plot_data(sim_id):\n",
    "    \"\"\"Plot the sim data.\n",
    "\n",
    "    Load the data from the file and plot the graph for the membrane potential\n",
    "    using the pynml generate_plot utility function.\n",
    "\n",
    "    :sim_id: ID of simulaton\n",
    "\n",
    "    \"\"\"\n",
    "    data_array = np.loadtxt(sim_id + \".dat\")\n",
    "    pynml.generate_plot([data_array[:, 0]], [data_array[:, 1]], \"Membrane potential\", show_plot_already=False, save_figure_to=sim_id + \"-v.png\", xaxis=\"time (s)\", yaxis=\"membrane potential (V)\")\n",
    "\n",
    "    data_array_sca_m = np.loadtxt(sim_id + \".sca_m.dat\")\n",
    "    pynml.generate_plot([data_array_sca_m[:, 0]], [data_array_sca_m[:, 1]], \"sca m gate\", show_plot_already=False, save_figure_to=sim_id + \"-sca_m.png\", xaxis=\"time (s)\", yaxis=\"q (sca m gate)\")\n",
    "\n",
    "    data_array_sca_h = np.loadtxt(sim_id + \".sca_h.dat\")\n",
    "    pynml.generate_plot([data_array_sca_h[:, 0]], [data_array_sca_h[:, 1]], \"sca h gate\", show_plot_already=False, save_figure_to=sim_id + \"-sca_h.png\", xaxis=\"time (s)\", yaxis=\"q (sca h gate)\")\n",
    "\n",
    "    # data_array_kca_n = np.loadtxt(sim_id + \".kca_n.dat\")\n",
    "    # pynml.generate_plot([data_array_kca_n[:, 0]], [data_array_kca_n[:, 1]], \"kca n gate\", show_plot_already=False, save_figure_to=sim_id + \"-kca_n.png\", xaxis=\"time (s)\", yaxis=\"q (kca n gate)\")\n",
    "\n",
    "    data_array_ca = np.loadtxt(sim_id + \".cai.dat\")\n",
    "    pynml.generate_plot([data_array_ca[:, 0]], [data_array_ca[:, 1]], \"caConc\", show_plot_already=False, save_figure_to=sim_id + \"-caConc.png\", xaxis=\"time (s)\", yaxis=\"caConc\")\n",
    "\n",
    "    data_array_ica = np.loadtxt(sim_id + \".ica.dat\")\n",
    "    pynml.generate_plot([data_array_ica[:, 0]], [data_array_ica[:, 1]], \"iCa\", show_plot_already=False, save_figure_to=sim_id + \"-iCa.png\", xaxis=\"time (s)\", yaxis=\"iCa\")\n"
   ]
  },
  {
   "cell_type": "code",
   "execution_count": 136,
   "metadata": {},
   "outputs": [
    {
     "name": "stderr",
     "output_type": "stream",
     "text": [
      "pyNeuroML >>> INFO - Executing: (java -Xmx400M  -jar  \"/Users/shayan/opt/anaconda3/envs/neuron/lib/python3.10/site-packages/pyneuroml/lib/jNeuroML-0.12.0-jar-with-dependencies.jar\" -validate \"pyr_ca_cell.nml\" ) in directory: .\n",
      "pyNeuroML >>> INFO - Command completed. Output: \n",
      "  jNeuroML >>   jNeuroML v0.12.0\n",
      "  jNeuroML >>  Validating: /Users/shayan/Desktop/OSB/BahlEtAl2012_ReducedL5PyrCell/NeuroML2/test_ca/pyr_ca_cell.nml\n",
      "  jNeuroML >>  Valid against schema and all tests\n",
      "  jNeuroML >>  No warnings\n",
      "  jNeuroML >>  \n",
      "  jNeuroML >>  Validated 1 files: All valid and no warnings\n",
      "  jNeuroML >>  \n",
      "  jNeuroML >>  \n"
     ]
    },
    {
     "data": {
      "text/plain": [
       "'pyr_ca_cell.nml'"
      ]
     },
     "execution_count": 136,
     "metadata": {},
     "output_type": "execute_result"
    }
   ],
   "source": [
    "def create_cell():\n",
    "    pyr_cell_doc = NeuroMLDocument(id='cell', notes=\"Layer 5 Pyramidal cell\")\n",
    "    pyr_cell_fn = \"pyr_ca_cell.nml\"\n",
    " \n",
    "    pyr_cell_doc.includes.append(IncludeType(\"../pas.channel.nml\"))\n",
    "    # pyr_cell_doc.includes.append(IncludeType(\"nat.channel.nml\"))\n",
    "    pyr_cell_doc.includes.append(IncludeType(\"../cad.nml\"))\n",
    "    pyr_cell_doc.includes.append(IncludeType(\"../sca.channel.nml\"))\n",
    "    pyr_cell_doc.includes.append(IncludeType(\"../kca.channel.nml\"))\n",
    "\n",
    "    # Define a cell\n",
    "    pyr_cell = Cell(id=\"pyr_cell\", notes=\"A single compartment Layer 5 Pyramidal cell\")\n",
    "\n",
    "    # Define its biophysical properties\n",
    "    bio_prop = BiophysicalProperties(id=\"pyr_b_prop\")\n",
    "    #  notes=\"Biophysical properties for Layer 5 Pyramidal cell\")\n",
    "\n",
    "    # Membrane properties are a type of biophysical properties\n",
    "    mem_prop = MembraneProperties()\n",
    "    # Add membrane properties to the biophysical properties\n",
    "    bio_prop.membrane_properties = mem_prop\n",
    "\n",
    "    # Append to cell\n",
    "    pyr_cell.biophysical_properties = bio_prop\n",
    "\n",
    "\n",
    "    pas_channel_density = ChannelDensity(id=\"pas_channels\", cond_density=\"0.485726 S_per_m2\", erev=\"-80.3987 mV\", ion=\"non_specific\", ion_channel=\"pas\")\n",
    "    mem_prop.channel_densities.append(pas_channel_density)\n",
    "\n",
    "    # nat_channel_density = ChannelDensity(id=\"nat_channels\", cond_density=\"236.616175 S_per_m2\", erev=\"55 mV\", ion=\"na\", ion_channel=\"nat\")\n",
    "    # mem_prop.channel_densities.append(nat_channel_density)\n",
    "\n",
    "    # sca_soma\n",
    "    sca_channel_density = ChannelDensityNernst(id=\"soma_sca\", ion_channel=\"sca\", cond_density=\"0.00454235280 S_per_m2\", ion=\"ca\")\n",
    "    mem_prop.channel_density_nernsts.append(sca_channel_density)\n",
    "\n",
    "    # kca_channel_density = ChannelDensityNernst(id=\"soma_kca\", ion_channel=\"kca\", cond_density=\"6.15058501 S_per_m2\", ion=\"k\")\n",
    "    # mem_prop.channel_density_nernsts.append(kca_channel_density)\n",
    "\n",
    "    # Other membrane properties\n",
    "    mem_prop.spike_threshes.append(SpikeThresh(value=\"-20mV\"))\n",
    "    mem_prop.specific_capacitances.append(SpecificCapacitance(value=\"2.23041 uF_per_cm2\"))\n",
    "    mem_prop.init_memb_potentials.append(InitMembPotential(value=\"-65mV\"))\n",
    "\n",
    "    intra_prop = IntracellularProperties()\n",
    "    intra_prop.resistivities.append(Resistivity(value=\"0.082 kohm_cm\"))\n",
    "\n",
    "    intra_prop.species.append(Species(id=\"ca\", concentration_model=\"cad\", ion=\"ca\", initial_concentration=\"1e-4 mM\",\n",
    "                             initial_ext_concentration=\"2 mM\"))\n",
    "\n",
    "    # Add to biological properties\n",
    "    bio_prop.intracellular_properties = intra_prop\n",
    "\n",
    "    # Morphology\n",
    "    morph = Morphology(id=\"pyr_cell_morph\")\n",
    "    #  notes=\"Simple morphology for the HH cell\")\n",
    "    seg = Segment(id=\"0\", name=\"soma\", notes=\"Soma segment\")\n",
    "    # We want a diameter such that area is 1000 micro meter^2\n",
    "    # surface area of a sphere is 4pi r^2 = 4pi diam^2\n",
    "    # diam = math.sqrt(1682 / math.pi)\n",
    "    proximal = Point3DWithDiam(x=\"0\", y=\"0\", z=\"0\", diameter=str(23.1453))\n",
    "    distal = Point3DWithDiam(x=\"0\", y=\"23.1453\", z=\"0\", diameter=str(23.1453))\n",
    "    seg.proximal = proximal\n",
    "    seg.distal = distal\n",
    "    morph.segments.append(seg)\n",
    "    pyr_cell.morphology = morph\n",
    "\n",
    "    pyr_cell_doc.cells.append(pyr_cell)\n",
    "    pynml.write_neuroml2_file(nml2_doc=pyr_cell_doc, nml2_file_name=pyr_cell_fn, validate=True)\n",
    "    return pyr_cell_fn\n",
    "\n",
    "create_cell()"
   ]
  },
  {
   "cell_type": "code",
   "execution_count": 118,
   "metadata": {},
   "outputs": [],
   "source": [
    "def create_network():\n",
    "    \"\"\"Create the network\n",
    "\n",
    "    :returns: name of network nml file\n",
    "    \"\"\"\n",
    "    net_doc = NeuroMLDocument(id=\"network\",\n",
    "                              notes=\"Pyramidal cell network\")\n",
    "    net_doc_fn = \"pyr_example_ca_net.nml\"\n",
    "    net_doc.includes.append(IncludeType(href=create_cell()))\n",
    "    # Create a population: convenient to create many cells of the same type\n",
    "    pop = Population(id=\"pop0\", notes=\"A population for pyramidal cell\", component=\"pyr_cell\", size=1)\n",
    "    # Input\n",
    "    pulsegen = PulseGenerator(id=\"pg\", notes=\"Simple pulse generator\", delay=\"100ms\", duration=\"500ms\", amplitude=\"0.1nA\")\n",
    "\n",
    "    exp_input = ExplicitInput(target=\"pop0[0]\", input=\"pg\")\n",
    "\n",
    "    net = Network(id=\"single_pyr_cell_network\",\n",
    "                  type=\"networkWithTemperature\",\n",
    "                  temperature = \"37 degC\",\n",
    "                  note=\"A network with a single population\")\n",
    "    net_doc.pulse_generators.append(pulsegen)\n",
    "    net.explicit_inputs.append(exp_input)\n",
    "    net.populations.append(pop)\n",
    "    net_doc.networks.append(net)\n",
    "\n",
    "    pynml.write_neuroml2_file(nml2_doc=net_doc, nml2_file_name=net_doc_fn, validate=True)\n",
    "    return net_doc_fn"
   ]
  },
  {
   "cell_type": "code",
   "execution_count": 137,
   "metadata": {},
   "outputs": [
    {
     "name": "stderr",
     "output_type": "stream",
     "text": [
      "pyNeuroML >>> INFO - Executing: (java -Xmx400M  -jar  \"/Users/shayan/opt/anaconda3/envs/neuron/lib/python3.10/site-packages/pyneuroml/lib/jNeuroML-0.12.0-jar-with-dependencies.jar\" -validate \"pyr_ca_cell.nml\" ) in directory: .\n",
      "pyNeuroML >>> INFO - Command completed. Output: \n",
      "  jNeuroML >>   jNeuroML v0.12.0\n",
      "  jNeuroML >>  Validating: /Users/shayan/Desktop/OSB/BahlEtAl2012_ReducedL5PyrCell/NeuroML2/test_ca/pyr_ca_cell.nml\n",
      "  jNeuroML >>  Valid against schema and all tests\n",
      "  jNeuroML >>  No warnings\n",
      "  jNeuroML >>  \n",
      "  jNeuroML >>  Validated 1 files: All valid and no warnings\n",
      "  jNeuroML >>  \n",
      "  jNeuroML >>  \n",
      "pyNeuroML >>> INFO - Executing: (java -Xmx400M  -jar  \"/Users/shayan/opt/anaconda3/envs/neuron/lib/python3.10/site-packages/pyneuroml/lib/jNeuroML-0.12.0-jar-with-dependencies.jar\" -validate \"pyr_example_ca_net.nml\" ) in directory: .\n",
      "pyNeuroML >>> INFO - Command completed. Output: \n",
      "  jNeuroML >>   jNeuroML v0.12.0\n",
      "  jNeuroML >>  Validating: /Users/shayan/Desktop/OSB/BahlEtAl2012_ReducedL5PyrCell/NeuroML2/test_ca/pyr_example_ca_net.nml\n",
      "  jNeuroML >>  Valid against schema and all tests\n",
      "  jNeuroML >>  No warnings\n",
      "  jNeuroML >>  \n",
      "  jNeuroML >>  Validated 1 files: All valid and no warnings\n",
      "  jNeuroML >>  \n",
      "  jNeuroML >>  \n",
      "pyNeuroML >>> INFO - Loading NeuroML2 file: /Users/shayan/Desktop/OSB/BahlEtAl2012_ReducedL5PyrCell/NeuroML2/test_ca/pyr_example_ca_net.nml\n",
      "pyNeuroML >>> INFO - Loading NeuroML2 file: /Users/shayan/Desktop/OSB/BahlEtAl2012_ReducedL5PyrCell/NeuroML2/test_ca/pyr_ca_cell.nml\n",
      "pyNeuroML >>> INFO - Loading NeuroML2 file: /Users/shayan/Desktop/OSB/BahlEtAl2012_ReducedL5PyrCell/NeuroML2/pas.channel.nml\n",
      "pyNeuroML >>> INFO - Loading NeuroML2 file: /Users/shayan/Desktop/OSB/BahlEtAl2012_ReducedL5PyrCell/NeuroML2/cad.nml\n",
      "pyNeuroML >>> INFO - Loading NeuroML2 file: /Users/shayan/Desktop/OSB/BahlEtAl2012_ReducedL5PyrCell/NeuroML2/sca.channel.nml\n",
      "pyNeuroML >>> INFO - Loading NeuroML2 file: /Users/shayan/Desktop/OSB/BahlEtAl2012_ReducedL5PyrCell/NeuroML2/kca.channel.nml\n",
      "pyNeuroML >>> INFO - Loading LEMS file: LEMS_pyr_single_comp_ca.xml and running with jNeuroML\n",
      "pyNeuroML >>> INFO - Executing: (java -Xmx2G  -Djava.awt.headless=true -jar  \"/Users/shayan/opt/anaconda3/envs/neuron/lib/python3.10/site-packages/pyneuroml/lib/jNeuroML-0.12.0-jar-with-dependencies.jar\"  \"LEMS_pyr_single_comp_ca.xml\"  -nogui -I '') in directory: .\n",
      "pyNeuroML >>> INFO - Command completed. Output: \n",
      "  jNeuroML >>   jNeuroML v0.12.0\n",
      "  jNeuroML >>  Loading: /Users/shayan/Desktop/OSB/BahlEtAl2012_ReducedL5PyrCell/NeuroML2/test_ca/LEMS_pyr_single_comp_ca.xml with jLEMS, NO GUI mode...\n",
      "  jNeuroML >>  INFO Aug 05,2022 16:08  (INFO) Loading LEMS file from: /Users/shayan/Desktop/OSB/BahlEtAl2012_ReducedL5PyrCell/NeuroML2/test_ca/LEMS_pyr_single_comp_ca.xml\n",
      "  jNeuroML >>  INFO Aug 05,2022 16:08  (INFO) Reading from: /Users/shayan/Desktop/OSB/BahlEtAl2012_ReducedL5PyrCell/NeuroML2/test_ca/LEMS_pyr_single_comp_ca.xml\n",
      "  jNeuroML >>  WARNING Aug 05,2022 16:08  (WARNING) Unrecognized attribute XMLAttribute(variable, drive_channel)  drive_channel at: org.lemsml.jlems.core.reader.LemsFactory.buildDerivedVariable(LemsFactory.java:1268)\n",
      "  jNeuroML >>  WARNING Aug 05,2022 16:08  (WARNING) Unrecognized element (DerivedVariable): XMLElt: DerivedVariable, attrs: 2, body len: 0, children: 0 at: org.lemsml.jlems.core.reader.LemsFactory.buildOnCondition(LemsFactory.java:1344)\n",
      "  jNeuroML >>  INFO Aug 05,2022 16:08  (INFO) Finished 140000 steps in 2.35 seconds (sim duration: 700.0000000000001ms; dt: 0.005ms)\n",
      "  jNeuroML >>  INFO Aug 05,2022 16:08  (INFO) Written to the file /Users/shayan/Desktop/OSB/BahlEtAl2012_ReducedL5PyrCell/NeuroML2/test_ca/./pyr_single_comp_ca.dat 2990510\n",
      "  jNeuroML >>  INFO Aug 05,2022 16:08  (INFO) Written to the file /Users/shayan/Desktop/OSB/BahlEtAl2012_ReducedL5PyrCell/NeuroML2/test_ca/./pyr_single_comp_ca.cai.dat 2302035\n",
      "  jNeuroML >>  INFO Aug 05,2022 16:08  (INFO) Written to the file /Users/shayan/Desktop/OSB/BahlEtAl2012_ReducedL5PyrCell/NeuroML2/test_ca/./pyr_single_comp_ca.ica.dat 1882032\n",
      "  jNeuroML >>  INFO Aug 05,2022 16:08  (INFO) Written to the file /Users/shayan/Desktop/OSB/BahlEtAl2012_ReducedL5PyrCell/NeuroML2/test_ca/./pyr_single_comp_ca.sca_m.dat 2845912\n",
      "  jNeuroML >>  INFO Aug 05,2022 16:08  (INFO) Written to the file /Users/shayan/Desktop/OSB/BahlEtAl2012_ReducedL5PyrCell/NeuroML2/test_ca/./pyr_single_comp_ca.sca_h.dat 2841548\n",
      "  jNeuroML >>  INFO Aug 05,2022 16:08  (INFO) Finished reading, building, running and displaying LEMS model\n",
      "  jNeuroML >>  \n",
      "pyNeuroML >>> INFO - Generating plot: Membrane potential\n",
      "/Users/shayan/opt/anaconda3/envs/neuron/lib/python3.10/site-packages/pyneuroml/pynml.py:2708: UserWarning: marker is redundantly defined by the 'marker' keyword argument and the fmt string \"o\" (-> marker='o'). The keyword argument will take precedence.\n",
      "  plt.plot(\n",
      "pyNeuroML >>> INFO - Saving image to /Users/shayan/Desktop/OSB/BahlEtAl2012_ReducedL5PyrCell/NeuroML2/test_ca/pyr_single_comp_ca-v.png of plot: Membrane potential\n",
      "pyNeuroML >>> INFO - Saved image to pyr_single_comp_ca-v.png of plot: Membrane potential\n",
      "pyNeuroML >>> INFO - Generating plot: sca m gate\n",
      "/Users/shayan/opt/anaconda3/envs/neuron/lib/python3.10/site-packages/pyneuroml/pynml.py:2708: UserWarning: marker is redundantly defined by the 'marker' keyword argument and the fmt string \"o\" (-> marker='o'). The keyword argument will take precedence.\n",
      "  plt.plot(\n",
      "pyNeuroML >>> INFO - Saving image to /Users/shayan/Desktop/OSB/BahlEtAl2012_ReducedL5PyrCell/NeuroML2/test_ca/pyr_single_comp_ca-sca_m.png of plot: sca m gate\n",
      "pyNeuroML >>> INFO - Saved image to pyr_single_comp_ca-sca_m.png of plot: sca m gate\n",
      "pyNeuroML >>> INFO - Generating plot: sca h gate\n",
      "/Users/shayan/opt/anaconda3/envs/neuron/lib/python3.10/site-packages/pyneuroml/pynml.py:2708: UserWarning: marker is redundantly defined by the 'marker' keyword argument and the fmt string \"o\" (-> marker='o'). The keyword argument will take precedence.\n",
      "  plt.plot(\n",
      "pyNeuroML >>> INFO - Saving image to /Users/shayan/Desktop/OSB/BahlEtAl2012_ReducedL5PyrCell/NeuroML2/test_ca/pyr_single_comp_ca-sca_h.png of plot: sca h gate\n",
      "pyNeuroML >>> INFO - Saved image to pyr_single_comp_ca-sca_h.png of plot: sca h gate\n",
      "pyNeuroML >>> INFO - Generating plot: caConc\n",
      "/Users/shayan/opt/anaconda3/envs/neuron/lib/python3.10/site-packages/pyneuroml/pynml.py:2708: UserWarning: marker is redundantly defined by the 'marker' keyword argument and the fmt string \"o\" (-> marker='o'). The keyword argument will take precedence.\n",
      "  plt.plot(\n",
      "pyNeuroML >>> INFO - Saving image to /Users/shayan/Desktop/OSB/BahlEtAl2012_ReducedL5PyrCell/NeuroML2/test_ca/pyr_single_comp_ca-caConc.png of plot: caConc\n",
      "pyNeuroML >>> INFO - Saved image to pyr_single_comp_ca-caConc.png of plot: caConc\n",
      "pyNeuroML >>> INFO - Generating plot: iCa\n",
      "/Users/shayan/opt/anaconda3/envs/neuron/lib/python3.10/site-packages/pyneuroml/pynml.py:2708: UserWarning: marker is redundantly defined by the 'marker' keyword argument and the fmt string \"o\" (-> marker='o'). The keyword argument will take precedence.\n",
      "  plt.plot(\n",
      "pyNeuroML >>> INFO - Saving image to /Users/shayan/Desktop/OSB/BahlEtAl2012_ReducedL5PyrCell/NeuroML2/test_ca/pyr_single_comp_ca-iCa.png of plot: iCa\n",
      "pyNeuroML >>> INFO - Saved image to pyr_single_comp_ca-iCa.png of plot: iCa\n"
     ]
    },
    {
     "data": {
      "image/png": "[encoded data removed]",
      "text/plain": [
       "<Figure size 432x288 with 1 Axes>"
      ]
     },
     "metadata": {
      "needs_background": "light"
     },
     "output_type": "display_data"
    },
    {
     "data": {
      "image/png": "[encoded data removed]",
      "text/plain": [
       "<Figure size 432x288 with 1 Axes>"
      ]
     },
     "metadata": {
      "needs_background": "light"
     },
     "output_type": "display_data"
    },
    {
     "data": {
      "image/png": "[encoded data removed]",
      "text/plain": [
       "<Figure size 432x288 with 1 Axes>"
      ]
     },
     "metadata": {
      "needs_background": "light"
     },
     "output_type": "display_data"
    },
    {
     "data": {
      "image/png": "[encoded data removed]",
      "text/plain": [
       "<Figure size 432x288 with 1 Axes>"
      ]
     },
     "metadata": {
      "needs_background": "light"
     },
     "output_type": "display_data"
    },
    {
     "data": {
      "image/png": "[encoded data removed]",
      "text/plain": [
       "<Figure size 432x288 with 1 Axes>"
      ]
     },
     "metadata": {
      "needs_background": "light"
     },
     "output_type": "display_data"
    }
   ],
   "source": [
    "if __name__ == \"__main__\":\n",
    "    main()"
   ]
  },
  {
   "cell_type": "code",
   "execution_count": null,
   "metadata": {},
   "outputs": [],
   "source": []
  }
 ],
 "metadata": {
  "kernelspec": {
   "display_name": "Python 3.10.0 ('neuron')",
   "language": "python",
   "name": "python3"
  },
  "language_info": {
   "codemirror_mode": {
    "name": "ipython",
    "version": 3
   },
   "file_extension": ".py",
   "mimetype": "text/x-python",
   "name": "python",
   "nbconvert_exporter": "python",
   "pygments_lexer": "ipython3",
   "version": "3.10.0"
  },
  "orig_nbformat": 4,
  "vscode": {
   "interpreter": {
    "hash": "34c99d7b9019ebf7116fb123d3da999cf8f38ee4cc2bded985a8172faaeedfbd"
   }
  }
 },
 "nbformat": 4,
 "nbformat_minor": 2
}
