{
 "cells": [
  {
   "cell_type": "code",
   "execution_count": 5,
   "metadata": {},
   "outputs": [],
   "source": [
    "from math import exp \n",
    "\n",
    "from pyneuroml.analysis.ChannelHelper import evaluate_HHExpRate, evaluate_HHExpLinearRate, evaluate_HHSigmoidRate\n"
   ]
  },
  {
   "cell_type": "code",
   "execution_count": 7,
   "metadata": {},
   "outputs": [
    {
     "name": "stdout",
     "output_type": "stream",
     "text": [
      "17.280023690205493 per_ms\n",
      "17.280023690205493 per_ms\n"
     ]
    }
   ],
   "source": [
    "v = 0 # mV \n",
    "\n",
    "rate_alpha_m0 = 0.32 *(v+54)     / (1- exp(-1*(v+54)/4.))         # From chapter eqn 4\n",
    "rate_alpha_m = (1.28 *(v - -54)/4.) / (1- exp(-1*(v- -54)/4.))    # Restructured\n",
    "\n",
    "print('%s per_ms'%rate_alpha_m0)\n",
    "print('%s per_ms'%rate_alpha_m)\n",
    "evaluate_HHExpLinearRate(\"1.28per_ms\", \"-54mV\", \"4mV\",'%smV'%v)"
   ]
  },
  {
   "cell_type": "code",
   "execution_count": 8,
   "metadata": {},
   "outputs": [],
   "source": [
    "evaluate_HHExpLinearRate(\"1.28per_ms\", \"-54mV\", \"4mV\",'%smV'%v)"
   ]
  },
  {
   "cell_type": "code",
   "execution_count": 41,
   "metadata": {},
   "outputs": [],
   "source": [
    "import math\n",
    "from neuroml import NeuroMLDocument\n",
    "from neuroml import Cell\n",
    "from neuroml import IonChannelHH\n",
    "from neuroml import GateHHRates\n",
    "from neuroml import HHRate\n",
    "from neuroml import Q10ConductanceScaling\n",
    "from neuroml import Q10Settings\n",
    "from neuroml import BiophysicalProperties\n",
    "from neuroml import MembraneProperties\n",
    "from neuroml import IncludeType\n",
    "from neuroml import ChannelDensity\n",
    "from neuroml import SpikeThresh\n",
    "from neuroml import SpecificCapacitance\n",
    "from neuroml import InitMembPotential\n",
    "from neuroml import IntracellularProperties\n",
    "from neuroml import Resistivity\n",
    "from neuroml import Resistivity\n",
    "from neuroml import Morphology, Segment, Point3DWithDiam\n",
    "from pyneuroml import pynml\n",
    "from pyneuroml.lems import LEMSSimulation\n",
    "import os\n",
    "from CellBuilder import add_channel_density"
   ]
  },
  {
   "cell_type": "code",
   "execution_count": 15,
   "metadata": {},
   "outputs": [
    {
     "name": "stdout",
     "output_type": "stream",
     "text": [
      "/Users/shayan/Desktop/CN/gsoc_cn/BahlEtAl2012/NeuroML2\n"
     ]
    }
   ],
   "source": [
    "print(os.getcwd())"
   ]
  },
  {
   "cell_type": "code",
   "execution_count": 51,
   "metadata": {},
   "outputs": [],
   "source": [
    "def create_kfast_channel():\n",
    "    \"\"\"Create the kfast channel.\n",
    "\n",
    "    This will create the kfast channel and save it to a file.\n",
    "    It will also validate this file.\n",
    "\n",
    "    returns: name of the created file\n",
    "    \"\"\"\n",
    "    kfast_channel = IonChannelHH(id=\"kfast_channel\", notes=\"K fast channel for HH cell\", conductance=\"10pS\", species=\"k\")\n",
    "    gate_n = GateHHRates(id=\"n\", instances=\"1\", notes=\"n gate for kfast channel\")\n",
    "\n",
    "    m_forward_rate = HHRate(type=\"HHExpLinearRate\", rate=\"1per_ms\", midpoint=\"-40mV\", scale=\"10mV\")\n",
    "    m_reverse_rate = HHRate(type=\"HHExpRate\", rate=\"4per_ms\", midpoint=\"-65mV\", scale=\"-18mV\")\n",
    "\n",
    "    conductance_scaling = Q10ConductanceScaling(experimental_temp=\"23degC\", q10_factor=2.3)\n",
    "    \n",
    "    kfast_channel.q10_conductance_scalings.append(conductance_scaling)\n",
    "\n",
    "    gate_n.q10_settings = Q10Settings(type=\"q10ExpTemp\", q10Factor=2.3, experimentalTemp=\"23degC\")\n",
    "    gate_n.forward_rate = m_forward_rate\n",
    "    gate_n.reverse_rate = m_reverse_rate\n",
    "    kfast_channel.gate_hh_rates.append(gate_n)\n",
    "\n",
    "    kfast_channel_doc = NeuroMLDocument(id=\"kfast_channel\", notes=\"Kfast channel for HH neuron\")\n",
    "    kfast_channel_fn = \"HH_example_kfast_channel.nml\"\n",
    "    kfast_channel_doc.ion_channel_hhs.append(kfast_channel)\n",
    "\n",
    "    pynml.write_neuroml2_file(nml2_doc=kfast_channel_doc, nml2_file_name=kfast_channel_fn, validate=True)\n",
    "\n",
    "    return kfast_channel_fn"
   ]
  },
  {
   "cell_type": "code",
   "execution_count": null,
   "metadata": {},
   "outputs": [],
   "source": [
    "def create_kslow_channel():\n",
    "    "
   ]
  },
  {
   "cell_type": "code",
   "execution_count": 57,
   "metadata": {},
   "outputs": [],
   "source": [
    "from neuroml import GateHHTauInf\n",
    "from neuroml import Q\n",
    "\n",
    "nap_channel = IonChannelHH(id=\"nap_channel\", notes=\"Nap channel for HH cell\", conductance=\"10pS\", species=\"na\")\n",
    "gate_n = GateHHRates(id=\"m\", instances=\"1\", notes=\"m gate for Nap channel\")\n",
    "\n",
    "#def create_nap_channel():\n",
    "    "
   ]
  },
  {
   "cell_type": "code",
   "execution_count": 83,
   "metadata": {},
   "outputs": [],
   "source": [
    "gate_n.q10_settings = Q10Settings(type=\"q10ExpTemp\", q10Factor=2.3, experimentalTemp=\"23degC\")"
   ]
  },
  {
   "cell_type": "code",
   "execution_count": 84,
   "metadata": {},
   "outputs": [
    {
     "ename": "AttributeError",
     "evalue": "'GateHHRates' object has no attribute 'factor'",
     "output_type": "error",
     "traceback": [
      "\u001b[0;31m---------------------------------------------------------------------------\u001b[0m",
      "\u001b[0;31mAttributeError\u001b[0m                            Traceback (most recent call last)",
      "\u001b[1;32m/Users/shayan/Desktop/CN/gsoc_cn/BahlEtAl2012/NeuroML2/cell_pyr5.ipynb Cell 10'\u001b[0m in \u001b[0;36m<cell line: 1>\u001b[0;34m()\u001b[0m\n\u001b[0;32m----> <a href='vscode-notebook-cell:/Users/shayan/Desktop/CN/gsoc_cn/BahlEtAl2012/NeuroML2/cell_pyr5.ipynb#ch0000017?line=0'>1</a>\u001b[0m gate_n\u001b[39m.\u001b[39;49mfactor\n",
      "\u001b[0;31mAttributeError\u001b[0m: 'GateHHRates' object has no attribute 'factor'"
     ]
    }
   ],
   "source": [
    "gate_n."
   ]
  },
  {
   "cell_type": "code",
   "execution_count": null,
   "metadata": {},
   "outputs": [],
   "source": [
    "def create_nat_channel():"
   ]
  },
  {
   "cell_type": "code",
   "execution_count": null,
   "metadata": {},
   "outputs": [],
   "source": [
    "def create_km_channel():"
   ]
  },
  {
   "cell_type": "code",
   "execution_count": 72,
   "metadata": {},
   "outputs": [
    {
     "name": "stdout",
     "output_type": "stream",
     "text": [
      "\u001b[0;31mInit signature:\u001b[0m\n",
      "\u001b[0mChannelDensity\u001b[0m\u001b[0;34m(\u001b[0m\u001b[0;34m\u001b[0m\n",
      "\u001b[0;34m\u001b[0m    \u001b[0mneuro_lex_id\u001b[0m\u001b[0;34m=\u001b[0m\u001b[0;32mNone\u001b[0m\u001b[0;34m,\u001b[0m\u001b[0;34m\u001b[0m\n",
      "\u001b[0;34m\u001b[0m    \u001b[0mid\u001b[0m\u001b[0;34m=\u001b[0m\u001b[0;32mNone\u001b[0m\u001b[0;34m,\u001b[0m\u001b[0;34m\u001b[0m\n",
      "\u001b[0;34m\u001b[0m    \u001b[0mion_channel\u001b[0m\u001b[0;34m=\u001b[0m\u001b[0;32mNone\u001b[0m\u001b[0;34m,\u001b[0m\u001b[0;34m\u001b[0m\n",
      "\u001b[0;34m\u001b[0m    \u001b[0mcond_density\u001b[0m\u001b[0;34m=\u001b[0m\u001b[0;32mNone\u001b[0m\u001b[0;34m,\u001b[0m\u001b[0;34m\u001b[0m\n",
      "\u001b[0;34m\u001b[0m    \u001b[0merev\u001b[0m\u001b[0;34m=\u001b[0m\u001b[0;32mNone\u001b[0m\u001b[0;34m,\u001b[0m\u001b[0;34m\u001b[0m\n",
      "\u001b[0;34m\u001b[0m    \u001b[0msegment_groups\u001b[0m\u001b[0;34m=\u001b[0m\u001b[0;34m'all'\u001b[0m\u001b[0;34m,\u001b[0m\u001b[0;34m\u001b[0m\n",
      "\u001b[0;34m\u001b[0m    \u001b[0msegments\u001b[0m\u001b[0;34m=\u001b[0m\u001b[0;32mNone\u001b[0m\u001b[0;34m,\u001b[0m\u001b[0;34m\u001b[0m\n",
      "\u001b[0;34m\u001b[0m    \u001b[0mion\u001b[0m\u001b[0;34m=\u001b[0m\u001b[0;32mNone\u001b[0m\u001b[0;34m,\u001b[0m\u001b[0;34m\u001b[0m\n",
      "\u001b[0;34m\u001b[0m    \u001b[0mvariable_parameters\u001b[0m\u001b[0;34m=\u001b[0m\u001b[0;32mNone\u001b[0m\u001b[0;34m,\u001b[0m\u001b[0;34m\u001b[0m\n",
      "\u001b[0;34m\u001b[0m    \u001b[0mextensiontype_\u001b[0m\u001b[0;34m=\u001b[0m\u001b[0;32mNone\u001b[0m\u001b[0;34m,\u001b[0m\u001b[0;34m\u001b[0m\n",
      "\u001b[0;34m\u001b[0m    \u001b[0mgds_collector_\u001b[0m\u001b[0;34m=\u001b[0m\u001b[0;32mNone\u001b[0m\u001b[0;34m,\u001b[0m\u001b[0;34m\u001b[0m\n",
      "\u001b[0;34m\u001b[0m    \u001b[0;34m**\u001b[0m\u001b[0mkwargs_\u001b[0m\u001b[0;34m,\u001b[0m\u001b[0;34m\u001b[0m\n",
      "\u001b[0;34m\u001b[0m\u001b[0;34m)\u001b[0m\u001b[0;34m\u001b[0m\u001b[0;34m\u001b[0m\u001b[0m\n",
      "\u001b[0;31mDocstring:\u001b[0m     \n",
      "ChannelDensity -- Specifies a time varying ohmic conductance density, **gDensity,**  which is distributed on an area of the **cell**  ( specified in  **membraneProperties**  ) with fixed reversal potential **erev**  producing a current density **iDensity**\n",
      "\n",
      "\n",
      ":param erev: The reversal potential of the current produced\n",
      ":type erev: voltage\n",
      ":param condDensity:\n",
      ":type condDensity: conductanceDensity\n",
      "\u001b[0;31mFile:\u001b[0m           ~/opt/anaconda3/envs/neuron/lib/python3.10/site-packages/neuroml/nml/nml.py\n",
      "\u001b[0;31mType:\u001b[0m           type\n",
      "\u001b[0;31mSubclasses:\u001b[0m     ChannelDensityVShift\n"
     ]
    }
   ],
   "source": [
    "pyr_cell_doc = NeuroMLDocument(id='cell', notes=\"Layer 5 Pyramidal cell\")\n",
    "pyr_cell_doc.includes.append(IncludeType(\"nap.channel.nml\"))\n",
    "pyr_cell_doc.includes.append(IncludeType(\"kfast.channel.nml\"))\n",
    "# print(pyr_cell_doc)\n",
    "ChannelDensity?\n"
   ]
  },
  {
   "cell_type": "code",
   "execution_count": 87,
   "metadata": {},
   "outputs": [
    {
     "name": "stderr",
     "output_type": "stream",
     "text": [
      "pyNeuroML >>> INFO - Executing: (java -Xmx400M  -jar  \"/Users/shayan/opt/anaconda3/envs/neuron/lib/python3.10/site-packages/pyneuroml/lib/jNeuroML-0.11.1-jar-with-dependencies.jar\" -validate \"pyr5_cell.nml\" ) in directory: .\n"
     ]
    },
    {
     "name": "stdout",
     "output_type": "stream",
     "text": [
      "/Users/shayan/Desktop/CN/gsoc_cn/BahlEtAl2012/NeuroML2\n"
     ]
    },
    {
     "name": "stderr",
     "output_type": "stream",
     "text": [
      "pyNeuroML >>> INFO - Command completed. Output: \n",
      "  jNeuroML >>   jNeuroML v0.11.1\n",
      "  jNeuroML >>  Validating: /Users/shayan/Desktop/CN/gsoc_cn/BahlEtAl2012/NeuroML2/pyr5_cell.nml\n",
      "  jNeuroML >>  Valid against schema and all tests\n",
      "  jNeuroML >>  No warnings\n",
      "  jNeuroML >>  \n",
      "  jNeuroML >>  Validated 1 files: All valid and no warnings\n",
      "  jNeuroML >>  \n",
      "  jNeuroML >>  \n"
     ]
    },
    {
     "data": {
      "text/plain": [
       "'pyr5_cell.nml'"
      ]
     },
     "execution_count": 87,
     "metadata": {},
     "output_type": "execute_result"
    }
   ],
   "source": [
    "def create_cell():\n",
    "    pyr_cell_doc = NeuroMLDocument(id='cell', notes=\"Layer 5 Pyramidal cell\")\n",
    "    pyr_cell_fn = \"pyr5_cell.nml\"\n",
    "    print(os.getcwd())\n",
    "    pyr_cell_doc.includes.append(IncludeType(\"kfast.channel.nml\"))\n",
    "    pyr_cell_doc.includes.append(IncludeType(\"kslow.channel.nml\"))\n",
    "    pyr_cell_doc.includes.append(IncludeType(\"nat.channel.nml\"))\n",
    "    pyr_cell_doc.includes.append(IncludeType(\"nap.channel.nml\"))\n",
    "    pyr_cell_doc.includes.append(IncludeType(\"IKM.nml\"))\n",
    "\n",
    "    # Define a cell\n",
    "    pyr_cell = Cell(id=\"pyr_cell\", notes=\"A single compartment Layer 5 Pyramidal cell\")\n",
    "\n",
    "    # Define its biophysical properties\n",
    "    bio_prop = BiophysicalProperties(id=\"pyr_b_prop\")\n",
    "    #  notes=\"Biophysical properties for Layer 5 Pyramidal cell\")\n",
    "\n",
    "    # Membrane properties are a type of biophysical properties\n",
    "    mem_prop = MembraneProperties()\n",
    "    # Add membrane properties to the biophysical properties\n",
    "    bio_prop.membrane_properties = mem_prop\n",
    "\n",
    "    # Append to cell\n",
    "    pyr_cell.biophysical_properties = bio_prop\n",
    "\n",
    "    # Channel density for kfast channel\n",
    "    kfast_channel_density = ChannelDensity(id=\"kfast_channel\", cond_density=\"67.2 S_per_m2\", erev=\"-80.39 mV\", ion=\"k\", ion_channel=\"kfast\")\n",
    "    mem_prop.channel_densities.append(kfast_channel_density)\n",
    "\n",
    "    kslow_channel_density = ChannelDensity(id=\"kslow_channels\", cond_density=\"475.82 S_per_m2\", erev=\"-80.39 mV\", ion=\"kslow\", ion_channel=\"kslow\")\n",
    "    mem_prop.channel_densities.append(kslow_channel_density)\n",
    "\n",
    "    nat_channel_density = ChannelDensity(id=\"nat_channel\", cond_density=\"236.62 S_per_m2\", erev=\"-80.39 mV\", ion=\"nat\", ion_channel=\"nat\")\n",
    "    mem_prop.channel_densities.append(nat_channel_density)\n",
    "\n",
    "    nap_channel_density = ChannelDensity(id=\"nap_channels\", cond_density=\"1.44 S_per_m2\", erev=\"-80.39 mV\", ion=\"nap\", ion_channel=\"nap\")\n",
    "    mem_prop.channel_densities.append(nap_channel_density)\n",
    "\n",
    "    km_channel_density = ChannelDensity(id=\"km_channels\", cond_density=\"475.82 S_per_m2\", erev=\"-80.39 mV\", ion=\"km\", ion_channel=\"km\")\n",
    "    mem_prop.channel_densities.append(km_channel_density)\n",
    "\n",
    "    # add_channel_density(pyr_cell, pyr_cell_doc,\n",
    "    #                 cd_id=\"kfast_soma\",\n",
    "    #                 cond_density=\"67.2 S_per_m2\",\n",
    "    #                 ion_channel=\"kfast_channel\",\n",
    "    #                 ion_chan_def_file=\"kfast.channel.nml\",\n",
    "    #                 erev=\"-80.39mV\",\n",
    "    #                 ion=\"kfast\")\n",
    "\n",
    "    # Other membrane properties\n",
    "    mem_prop.spike_threshes.append(SpikeThresh(value=\"-20mV\"))\n",
    "    mem_prop.specific_capacitances.append(SpecificCapacitance(value=\"2.23 uF_per_cm2\"))\n",
    "    mem_prop.init_memb_potentials.append(InitMembPotential(value=\"-65mV\"))\n",
    "\n",
    "    intra_prop = IntracellularProperties()\n",
    "    intra_prop.resistivities.append(Resistivity(value=\"0.1 kohm_cm\"))\n",
    "\n",
    "    # Add to biological properties\n",
    "    bio_prop.intracellular_properties = intra_prop\n",
    "\n",
    "    # Morphology\n",
    "    morph = Morphology(id=\"pyr_cell_morph\")\n",
    "    #  notes=\"Simple morphology for the HH cell\")\n",
    "    seg = Segment(id=\"0\", name=\"soma\", notes=\"Soma segment\")\n",
    "    # We want a diameter such that area is 1000 micro meter^2\n",
    "    # surface area of a sphere is 4pi r^2 = 4pi diam^2\n",
    "    diam = math.sqrt(1682 / math.pi)\n",
    "    proximal = distal = Point3DWithDiam(x=\"0\", y=\"0\", z=\"0\", diameter=str(diam))\n",
    "    seg.proximal = proximal\n",
    "    seg.distal = distal\n",
    "    morph.segments.append(seg)\n",
    "    pyr_cell.morphology = morph\n",
    "\n",
    "    pyr_cell_doc.cells.append(pyr_cell)\n",
    "    pynml.write_neuroml2_file(nml2_doc=pyr_cell_doc, nml2_file_name=pyr_cell_fn, validate=True)\n",
    "    return pyr_cell_fn\n",
    "\n",
    "create_cell()\n"
   ]
  },
  {
   "cell_type": "markdown",
   "metadata": {},
   "source": [
    "    <ComponentType name=\"kslow_b_tau\" extends=\"baseVoltageDepTime\">\n",
    "        <Constant name=\"TIME_SCALE\" dimension=\"time\" value=\"1ms\"/>\n",
    "        <Constant name=\"VOLT_SCALE\" dimension=\"voltage\" value=\"1mV\"/>\n",
    "        <Constant name=\"v05b\" dimension=\"none\" value=\"-58\"/>\n",
    "        <Constant name=\"b0\" dimension=\"none\" value=\"360\"/>\n",
    "        <Constant name=\"b11\" dimension=\"none\" value=\"1010\"/>\n",
    "        <Constant name=\"b2\" dimension=\"none\" value=\"-75\"/>\n",
    "        <Constant name=\"b3\" dimension=\"none\" value=\"48\"/>\n",
    "        <Constant name=\"b4\" dimension=\"none\" value=\"23.7\"/>\n",
    "        <Constant name=\"b5\" dimension=\"none\" value=\"-54\"/>\n",
    "\n",
    "        <Dynamics>\n",
    "            <DerivedVariable name=\"V\" dimension=\"none\" value=\"v / VOLT_SCALE\"/>\n",
    "            <DerivedVariable name=\"t\" exposure=\"t\" dimension=\"time\" value=\"(b0+(b11+b4*(V-b5))*exp(-(V-b2)*(V-b2)/(b3*b3))) * TIME_SCALE \"/>\n",
    "        </Dynamics>\n",
    "\n",
    "    </ComponentType>\n",
    "\n",
    "\n",
    "    <ComponentType name=\"kslow_b1_tau\" extends=\"baseVoltageDepTime\">\n",
    "        <Constant name=\"TIME_SCALE\" dimension=\"time\" value=\"1ms\"/>\n",
    "        <Constant name=\"VOLT_SCALE\" dimension=\"voltage\" value=\"1mV\"/>\n",
    "        <Constant name=\"bb0\" dimension=\"none\" value=\"2350\"/>\n",
    "        <Constant name=\"bb1\" dimension=\"none\" value=\"1380\"/>\n",
    "        <Constant name=\"bb2\" dimension=\"none\" value=\"0.01118\"/>\n",
    "        <Constant name=\"bb3\" dimension=\"none\" value=\"-210\"/>\n",
    "        <Constant name=\"bb4\" dimension=\"none\" value=\"0.0306\"/>\n",
    "\n",
    "\n",
    "        <Dynamics>\n",
    "            <DerivedVariable name=\"V\" dimension=\"none\" value=\"v / VOLT_SCALE\"/>\n",
    "            <DerivedVariable name=\"t\" exposure=\"t\" dimension=\"time\" value=\"(bb0+bb1*exp(-bb2*V)+bb3*exp(-bb4*V)) * TIME_SCALE \"/>\n",
    "        </Dynamics>"
   ]
  },
  {
   "cell_type": "code",
   "execution_count": 106,
   "metadata": {},
   "outputs": [
    {
     "data": {
      "text/plain": [
       "<neuroml.nml.nml.GateFractional at 0x7f78c88ea020>"
      ]
     },
     "execution_count": 106,
     "metadata": {},
     "output_type": "execute_result"
    }
   ],
   "source": [
    "from neuroml import GateFractional\n",
    "from neuroml import GateFractionalSubgate\n",
    "\n",
    "gate_n = GateFractional(id=\"n\", instances=\"1\", notes=\"n gate for kfast channel\")\n",
    "gate_n.sub_gates.append(GateFractionalSubgate(id=\"bb\", fractional_conductance=\"0.5\"))\n",
    "\n",
    "# gate_n.sub_gates(id=\"n1\", instances=\"0.5\")\n",
    "# gate_n.sub_gates(id=\"n2\", instances=\"0.5\")\n",
    "# print(GateFractional)\n",
    "gate_n\n",
    "#    gate_n = GateHHRates(id=\"n\", instances=\"1\", notes=\"n gate for kfast channel\")"
   ]
  }
 ],
 "metadata": {
  "interpreter": {
   "hash": "34c99d7b9019ebf7116fb123d3da999cf8f38ee4cc2bded985a8172faaeedfbd"
  },
  "kernelspec": {
   "display_name": "Python 3.10.0 ('neuron')",
   "language": "python",
   "name": "python3"
  },
  "language_info": {
   "codemirror_mode": {
    "name": "ipython",
    "version": 3
   },
   "file_extension": ".py",
   "mimetype": "text/x-python",
   "name": "python",
   "nbconvert_exporter": "python",
   "pygments_lexer": "ipython3",
   "version": "3.10.0"
  },
  "orig_nbformat": 4
 },
 "nbformat": 4,
 "nbformat_minor": 2
}
